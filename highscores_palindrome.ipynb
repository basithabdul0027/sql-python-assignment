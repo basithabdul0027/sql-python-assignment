{
 "cells": [
  {
   "cell_type": "code",
   "execution_count": 7,
   "id": "56bddc4e-9aa9-45dc-89f1-b5b98d109a6b",
   "metadata": {},
   "outputs": [
    {
     "name": "stdout",
     "output_type": "stream",
     "text": [
      "CSV file 'students.csv' created.\n"
     ]
    }
   ],
   "source": [
    "import pandas as pd\n",
    "\n",
    "\n",
    "data = {\n",
    "    'Name': ['Alice', 'Bob', 'Charlie', 'David', 'Eva'],\n",
    "    'Math': [95, 67, 88, 45, 91]\n",
    "}\n",
    "\n",
    "\n",
    "df = pd.DataFrame(data)\n",
    "\n",
    "df.to_csv('students.csv', index=False)\n",
    "\n",
    "print(\"CSV file 'students.csv' created.\")\n"
   ]
  },
  {
   "cell_type": "code",
   "execution_count": 3,
   "id": "23136615-fe30-425e-bb48-12d1b98c1b1a",
   "metadata": {},
   "outputs": [
    {
     "name": "stdout",
     "output_type": "stream",
     "text": [
      "Students who scored above 80 in Math:\n",
      "0      Alice\n",
      "2    Charlie\n",
      "4        Eva\n",
      "Name: Name, dtype: object\n"
     ]
    }
   ],
   "source": [
    "\n",
    "df = pd.read_csv(\"students.csv\")\n",
    "\n",
    "\n",
    "high_scorers = df[df['Math'] > 80]\n",
    "\n",
    "\n",
    "print(\"Students who scored above 80 in Math:\")\n",
    "print(high_scorers['Name'])\n"
   ]
  },
  {
   "cell_type": "code",
   "execution_count": 5,
   "id": "88979aee-b6cb-4ef3-916b-7cff39d3acb0",
   "metadata": {},
   "outputs": [
    {
     "name": "stdin",
     "output_type": "stream",
     "text": [
      "Enter a string:  palindrome \n"
     ]
    },
    {
     "name": "stdout",
     "output_type": "stream",
     "text": [
      "Not a palindrome.\n"
     ]
    }
   ],
   "source": [
    "def is_palindrome(s):\n",
    "    s = s.lower().replace(\" \", \"\")\n",
    "    n = len(s)\n",
    "    for i in range(n // 2):\n",
    "        if s[i] != s[n - i - 1]:\n",
    "            return False\n",
    "    return True\n",
    "\n",
    "# Test\n",
    "word = input(\"Enter a string: \")\n",
    "if is_palindrome(word):\n",
    "    print(\"It's a palindrome!\")\n",
    "else:\n",
    "    print(\"Not a palindrome.\")\n"
   ]
  },
  {
   "cell_type": "code",
   "execution_count": null,
   "id": "8256908f-0d2f-401f-a129-c7d27cb8900d",
   "metadata": {},
   "outputs": [],
   "source": []
  }
 ],
 "metadata": {
  "kernelspec": {
   "display_name": "Python [conda env:base] *",
   "language": "python",
   "name": "conda-base-py"
  },
  "language_info": {
   "codemirror_mode": {
    "name": "ipython",
    "version": 3
   },
   "file_extension": ".py",
   "mimetype": "text/x-python",
   "name": "python",
   "nbconvert_exporter": "python",
   "pygments_lexer": "ipython3",
   "version": "3.12.2"
  }
 },
 "nbformat": 4,
 "nbformat_minor": 5
}
